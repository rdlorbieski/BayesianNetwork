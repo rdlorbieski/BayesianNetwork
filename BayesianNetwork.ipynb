{
 "cells": [
  {
   "cell_type": "code",
   "execution_count": 1,
   "id": "9bdad843",
   "metadata": {},
   "outputs": [],
   "source": [
    "#pip install pgmpy"
   ]
  },
  {
   "cell_type": "code",
   "execution_count": 2,
   "id": "f45dcc79",
   "metadata": {},
   "outputs": [],
   "source": [
    "import warnings\n",
    "warnings.filterwarnings('ignore')"
   ]
  },
  {
   "cell_type": "code",
   "execution_count": 3,
   "id": "7a4077a9",
   "metadata": {},
   "outputs": [],
   "source": [
    "from pgmpy.models import BayesianNetwork\n",
    "from pgmpy.factors.discrete import TabularCPD\n",
    "from pgmpy.inference import VariableElimination\n",
    "\n",
    "# Definindo a estrutura da rede\n",
    "model = BayesianNetwork([('Emprego', 'Renda_Mensal'),\n",
    "                         ('Emprego', 'Risco'),\n",
    "                         ('Renda_Mensal', 'Dividas'),\n",
    "                         ('Renda_Mensal', 'Historico_Credito'),\n",
    "                         ('Historico_Credito', 'Risco'),\n",
    "                         ('Dividas', 'Risco')])\n",
    "\n",
    "# CPD (distribuições de probabilidade condicionais) para o booleano Emprego; \n",
    "# Variable card = Num de níveis ([sim, não]; [Baixo, médio, alto]; etc)\n",
    "cpd_emprego = TabularCPD(variable='Emprego', variable_card=2, values=[[0.3], [0.7]], state_names={'Emprego': ['Desempregado', 'Empregado']})\n",
    "\n",
    "# CPD para Renda_Mensal (depende de Emprego);  values[0]=[Desempregado, Empregado]\n",
    "cpd_renda_mensal = TabularCPD(variable='Renda_Mensal', variable_card=3, values=[[0.95, 0.5], [0.03, 0.4], [0.02, 0.1]],\n",
    "                              evidence=['Emprego'], evidence_card=[2], \n",
    "                              state_names={\n",
    "                                  'Emprego': ['Desempregado', 'Empregado'], \n",
    "                                  'Renda_Mensal': ['Baixa', 'Media', 'Alta']\n",
    "                              })\n"
   ]
  },
  {
   "cell_type": "code",
   "execution_count": 4,
   "id": "17a9b964",
   "metadata": {},
   "outputs": [
    {
     "name": "stdout",
     "output_type": "stream",
     "text": [
      "+---------------------+-----------------------+--------------------+\n",
      "| Emprego             | Emprego(Desempregado) | Emprego(Empregado) |\n",
      "+---------------------+-----------------------+--------------------+\n",
      "| Renda_Mensal(Baixa) | 0.95                  | 0.5                |\n",
      "+---------------------+-----------------------+--------------------+\n",
      "| Renda_Mensal(Media) | 0.03                  | 0.4                |\n",
      "+---------------------+-----------------------+--------------------+\n",
      "| Renda_Mensal(Alta)  | 0.02                  | 0.1                |\n",
      "+---------------------+-----------------------+--------------------+\n"
     ]
    }
   ],
   "source": [
    "print(cpd_renda_mensal)"
   ]
  },
  {
   "cell_type": "code",
   "execution_count": 5,
   "id": "08d59dc5",
   "metadata": {},
   "outputs": [],
   "source": [
    "# CPDs hipotéticas para os outros nós; \n",
    "cpd_historico_credito = TabularCPD(variable='Historico_Credito', variable_card=3, values=[[0.6, 0.4, 0.2], [0.3, 0.4, 0.5], [0.1, 0.2, 0.3]],\n",
    "                                   evidence=['Renda_Mensal'], evidence_card=[3],\n",
    "                                      state_names={\n",
    "                                      'Renda_Mensal': ['Baixa', 'Media', 'Alta'], \n",
    "                                      'Historico_Credito': ['Ruim', 'Bom', 'Otimo']\n",
    "                                     }\n",
    "                                  )\n"
   ]
  },
  {
   "cell_type": "code",
   "execution_count": 6,
   "id": "92a89aa3",
   "metadata": {},
   "outputs": [
    {
     "name": "stdout",
     "output_type": "stream",
     "text": [
      "+--------------------------+---------------------+---------------------+--------------------+\n",
      "| Renda_Mensal             | Renda_Mensal(Baixa) | Renda_Mensal(Media) | Renda_Mensal(Alta) |\n",
      "+--------------------------+---------------------+---------------------+--------------------+\n",
      "| Historico_Credito(Ruim)  | 0.6                 | 0.4                 | 0.2                |\n",
      "+--------------------------+---------------------+---------------------+--------------------+\n",
      "| Historico_Credito(Bom)   | 0.3                 | 0.4                 | 0.5                |\n",
      "+--------------------------+---------------------+---------------------+--------------------+\n",
      "| Historico_Credito(Otimo) | 0.1                 | 0.2                 | 0.3                |\n",
      "+--------------------------+---------------------+---------------------+--------------------+\n"
     ]
    }
   ],
   "source": [
    "print(cpd_historico_credito)"
   ]
  },
  {
   "cell_type": "code",
   "execution_count": 7,
   "id": "f67ea841",
   "metadata": {},
   "outputs": [],
   "source": [
    "cpd_dividas = TabularCPD(variable='Dividas', variable_card=3, values=[[0.1, 0.3, 0.5], [0.3, 0.3, 0.3], [0.6, 0.4, 0.2]],\n",
    "                         evidence=['Renda_Mensal'], evidence_card=[3],\n",
    "                        state_names={\n",
    "                                      'Renda_Mensal': ['Baixa', 'Media', 'Alta'], \n",
    "                                      'Dividas': ['Nenhuma', 'Pouca', 'Alta']\n",
    "                                     })"
   ]
  },
  {
   "cell_type": "code",
   "execution_count": 8,
   "id": "9e723aa8",
   "metadata": {},
   "outputs": [
    {
     "name": "stdout",
     "output_type": "stream",
     "text": [
      "+------------------+---------------------+---------------------+--------------------+\n",
      "| Renda_Mensal     | Renda_Mensal(Baixa) | Renda_Mensal(Media) | Renda_Mensal(Alta) |\n",
      "+------------------+---------------------+---------------------+--------------------+\n",
      "| Dividas(Nenhuma) | 0.1                 | 0.3                 | 0.5                |\n",
      "+------------------+---------------------+---------------------+--------------------+\n",
      "| Dividas(Pouca)   | 0.3                 | 0.3                 | 0.3                |\n",
      "+------------------+---------------------+---------------------+--------------------+\n",
      "| Dividas(Alta)    | 0.6                 | 0.4                 | 0.2                |\n",
      "+------------------+---------------------+---------------------+--------------------+\n"
     ]
    }
   ],
   "source": [
    "print(cpd_dividas)"
   ]
  },
  {
   "cell_type": "code",
   "execution_count": 9,
   "id": "1256ef30",
   "metadata": {},
   "outputs": [],
   "source": [
    "cpd_risco = TabularCPD(variable='Risco', variable_card=2, values=[\n",
    " [0.3, 0.2, 0.0, 0.65, 0.6, 0.5, 0.8, 0.75, 0.6, 0.4, 0.2, 0.1, 0.9, 0.7, 0.5, 1.0, 0.9, 0.7], \n",
    " [0.7, 0.8, 1.0, 0.35, 0.4, 0.5, 0.2, 0.25, 0.4, 0.6, 0.8, 0.9, 0.1, 0.3, 0.5, 0.0, 0.1, 0.3]\n",
    " ] ,\n",
    "                       evidence=['Emprego', 'Historico_Credito', 'Dividas'], evidence_card=[2, 3, 3],\n",
    "                      state_names={\n",
    "                                      'Emprego': ['Desempregado', 'Empregado'], \n",
    "                                      'Historico_Credito': ['Ruim', 'Bom', 'Otimo'],\n",
    "                                      'Dividas': ['Nenhuma', 'Pouca', 'Alta'],\n",
    "                                      'Risco':[1,2,3,4,5,6,7,8,9,10,11,12,13,14,15,16,17,18]\n",
    "                                 }\n",
    "                      )"
   ]
  },
  {
   "cell_type": "code",
   "execution_count": 10,
   "id": "13482bd4",
   "metadata": {
    "scrolled": true
   },
   "outputs": [
    {
     "name": "stdout",
     "output_type": "stream",
     "text": [
      "+-------------------+-------------------------+-----+--------------------------+--------------------------+\n",
      "| Emprego           | Emprego(Desempregado)   | ... | Emprego(Empregado)       | Emprego(Empregado)       |\n",
      "+-------------------+-------------------------+-----+--------------------------+--------------------------+\n",
      "| Historico_Credito | Historico_Credito(Ruim) | ... | Historico_Credito(Otimo) | Historico_Credito(Otimo) |\n",
      "+-------------------+-------------------------+-----+--------------------------+--------------------------+\n",
      "| Dividas           | Dividas(Nenhuma)        | ... | Dividas(Pouca)           | Dividas(Alta)            |\n",
      "+-------------------+-------------------------+-----+--------------------------+--------------------------+\n",
      "| Risco(1)          | 0.3                     | ... | 0.9                      | 0.7                      |\n",
      "+-------------------+-------------------------+-----+--------------------------+--------------------------+\n",
      "| Risco(2)          | 0.7                     | ... | 0.1                      | 0.3                      |\n",
      "+-------------------+-------------------------+-----+--------------------------+--------------------------+\n"
     ]
    }
   ],
   "source": [
    "print(cpd_risco)"
   ]
  },
  {
   "cell_type": "code",
   "execution_count": 11,
   "id": "b0b21180",
   "metadata": {},
   "outputs": [
    {
     "name": "stdout",
     "output_type": "stream",
     "text": [
      "+----------+--------------+\n",
      "| Risco    |   phi(Risco) |\n",
      "+==========+==============+\n",
      "| Risco(1) |       0.5481 |\n",
      "+----------+--------------+\n",
      "| Risco(2) |       0.4519 |\n",
      "+----------+--------------+\n"
     ]
    }
   ],
   "source": [
    "# Adicionando CPDs ao modelo\n",
    "model.add_cpds(cpd_emprego, cpd_renda_mensal, cpd_historico_credito, cpd_dividas, cpd_risco)\n",
    "\n",
    "# Verificando a consistência do modelo\n",
    "assert model.check_model()\n",
    "\n",
    "# Realizando a inferência\n",
    "infer = VariableElimination(model)\n",
    "\n",
    "# Calculando a probabilidade marginal para o Risco, dado Historico_Credito='Bom' e Emprego='Desempregado'\n",
    "result = infer.query(variables=['Risco'],\n",
    "                     evidence={'Historico_Credito': 'Bom', \n",
    "                               'Emprego': 'Desempregado'},\n",
    " )\n",
    "\n",
    "# Imprimindo o resultado\n",
    "print(result)\n"
   ]
  },
  {
   "cell_type": "code",
   "execution_count": 76,
   "id": "679a265b",
   "metadata": {},
   "outputs": [
    {
     "data": {
      "image/png": "[encoded data removed]",
      "text/plain": [
       "<Figure size 432x288 with 1 Axes>"
      ]
     },
     "metadata": {},
     "output_type": "display_data"
    }
   ],
   "source": [
    "import networkx as nx\n",
    "import matplotlib.pyplot as plt\n",
    "\n",
    "def draw_bayesian_network(model):\n",
    "    # Cria um objeto DiGraph do NetworkX a partir do modelo da pgmpy\n",
    "    nx_graph = nx.DiGraph()\n",
    "    nx_graph.add_edges_from(model.edges())\n",
    "\n",
    "    # Desenha a rede\n",
    "    pos = nx.spring_layout(nx_graph)  # Você pode mudar o layout conforme sua preferência\n",
    "    nx.draw(nx_graph, pos, with_labels=True, node_size=2000, node_color=\"skyblue\", font_size=14, font_weight='bold')\n",
    "    plt.show()\n",
    "\n",
    "# Chamando a função com o modelo como argumento\n",
    "draw_bayesian_network(model)"
   ]
  },
  {
   "cell_type": "markdown",
   "id": "76a2a26c",
   "metadata": {},
   "source": [
    "Renda Mensal afeta Dívida Atual e Histórico de Crédito.<br>\n",
    "Histórico de Crédito afeta o Risco de Empréstimo.<br>\n",
    "Emprego afeta a Renda Mensal e o Risco de Empréstimo.<br>\n",
    "Dívida Atual afeta o Risco de Empréstimo.<br>\n",
    "\n",
    "distribuições de probabilidade condicionais"
   ]
  },
  {
   "cell_type": "code",
   "execution_count": null,
   "id": "48415f0f",
   "metadata": {},
   "outputs": [],
   "source": []
  }
 ],
 "metadata": {
  "kernelspec": {
   "display_name": "Python 3 (ipykernel)",
   "language": "python",
   "name": "python3"
  },
  "language_info": {
   "codemirror_mode": {
    "name": "ipython",
    "version": 3
   },
   "file_extension": ".py",
   "mimetype": "text/x-python",
   "name": "python",
   "nbconvert_exporter": "python",
   "pygments_lexer": "ipython3",
   "version": "3.11.4"
  }
 },
 "nbformat": 4,
 "nbformat_minor": 5
}
